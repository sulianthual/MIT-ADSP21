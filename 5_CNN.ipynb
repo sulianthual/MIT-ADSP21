{
  "nbformat": 4,
  "nbformat_minor": 0,
  "metadata": {
    "accelerator": "GPU",
    "colab": {
      "name": "SulianThual_CNN.ipynb",
      "provenance": [],
      "collapsed_sections": []
    },
    "kernelspec": {
      "display_name": "Python 3",
      "language": "python",
      "name": "python3"
    },
    "language_info": {
      "codemirror_mode": {
        "name": "ipython",
        "version": 3
      },
      "file_extension": ".py",
      "mimetype": "text/x-python",
      "name": "python",
      "nbconvert_exporter": "python",
      "pygments_lexer": "ipython3",
      "version": "3.7.9"
    }
  },
  "cells": [
    {
      "cell_type": "markdown",
      "metadata": {
        "id": "Q91KqmCRu64D"
      },
      "source": [
        "# **Project - Convolutional Neural Networks: Street View Housing Number Digit Recognition**\n",
        "\n",
        "# Marks: 30\n",
        "\n",
        "Welcome to the project on classification using Convolutional Neural Networks. We will continue to work with the Street View Housing Numbers (SVHN) image dataset for this project.\n",
        "\n",
        "--------------\n",
        "### **Context:** \n",
        "--------------\n",
        "\n",
        "One of the most interesting tasks in deep learning is to recognize objects in natural scenes. The ability to process visual information using machine learning algorithms can be very useful as demonstrated in various applications.\n",
        "\n",
        "The SVHN dataset contains over 600,000 labeled digits cropped from street-level photos. It is one of the most popular image recognition datasets. It has been used in neural networks created by Google to improve map quality by automatically transcribing the address numbers from a patch of pixels. The transcribed number with a known street address helps pinpoint the location of the building it represents. \n",
        "\n",
        "----------------\n",
        "### **Objective:**\n",
        "----------------\n",
        "\n",
        "Build a CNN model that can identify the digits in the images.\n",
        "\n",
        "-------------\n",
        "### **Dataset**\n",
        "-------------\n",
        "Here, we will use a subset of the original data to save some computation time. The dataset is provided as a .h5 file. The basic preprocessing steps have been done."
      ]
    },
    {
      "cell_type": "markdown",
      "metadata": {
        "id": "8z2Z7-OAs8QG"
      },
      "source": [
        "## **Mount the drive**\n",
        "Let us start by mounting the drive and importing the necessary libraries."
      ]
    },
    {
      "cell_type": "code",
      "metadata": {
        "colab": {
          "base_uri": "https://localhost:8080/"
        },
        "id": "03lDyQUuef7z",
        "outputId": "9ec42c86-af3f-487f-8e4a-5e34b969ba6c"
      },
      "source": [
        "from google.colab import drive\n",
        "drive.mount('/content/drive')"
      ],
      "execution_count": 1,
      "outputs": [
        {
          "output_type": "stream",
          "name": "stdout",
          "text": [
            "Mounted at /content/drive\n"
          ]
        }
      ]
    },
    {
      "cell_type": "markdown",
      "metadata": {
        "id": "C8U3DUa3eNsT"
      },
      "source": [
        "## **Importing libraries**"
      ]
    },
    {
      "cell_type": "code",
      "metadata": {
        "id": "-dVzeuF3eQx1"
      },
      "source": [
        "import numpy as np\n",
        "import pandas as pd\n",
        "import matplotlib.pyplot as plt\n",
        "import seaborn as sns\n",
        "\n",
        "from sklearn.model_selection import train_test_split\n",
        "from sklearn.preprocessing import MinMaxScaler\n",
        "\n",
        "import tensorflow as tf\n",
        "from tensorflow.keras.models import Sequential\n",
        "from tensorflow.keras.layers import Dense, Conv2D, MaxPool2D, BatchNormalization, Dropout, Flatten, LeakyReLU\n",
        "from tensorflow.keras.utils import to_categorical"
      ],
      "execution_count": 2,
      "outputs": []
    },
    {
      "cell_type": "markdown",
      "metadata": {
        "id": "ucnevGLoyKf_"
      },
      "source": [
        "Let us check for the version of TensorFlow."
      ]
    },
    {
      "cell_type": "code",
      "metadata": {
        "colab": {
          "base_uri": "https://localhost:8080/"
        },
        "id": "W5as47YxyJVk",
        "outputId": "76724aeb-a8e6-483c-e990-e5aa52faf2e1"
      },
      "source": [
        "print(tf.__version__)"
      ],
      "execution_count": 3,
      "outputs": [
        {
          "output_type": "stream",
          "name": "stdout",
          "text": [
            "2.6.0\n"
          ]
        }
      ]
    },
    {
      "cell_type": "markdown",
      "metadata": {
        "id": "8lsux2ZwyTTR"
      },
      "source": [
        "## **Load the dataset**\n",
        "- Let us now load the dataset that is available as a .h5 file.\n",
        "- Split the data into train and the test dataset"
      ]
    },
    {
      "cell_type": "code",
      "metadata": {
        "id": "BApX9qgNsqV0",
        "scrolled": true
      },
      "source": [
        "import h5py\n",
        "\n",
        "# Open the file as read only\n",
        "# User can make changes in the path as required\n",
        "h5f = h5py.File('/content/drive/MyDrive/SVHN_single_grey1.h5', 'r')\n",
        "\n",
        "# Load the training and the test set\n",
        "X_train = h5f['X_train'][:]\n",
        "y_train = h5f['y_train'][:]\n",
        "X_test = h5f['X_test'][:]\n",
        "y_test = h5f['y_test'][:]\n",
        "\n",
        "\n",
        "# Close this file\n",
        "h5f.close()"
      ],
      "execution_count": 4,
      "outputs": []
    },
    {
      "cell_type": "markdown",
      "metadata": {
        "id": "hVe0CYpUgj7w"
      },
      "source": [
        "Let's check the number of images in the training and testing data."
      ]
    },
    {
      "cell_type": "code",
      "metadata": {
        "colab": {
          "base_uri": "https://localhost:8080/"
        },
        "id": "y3lwKpOefkpA",
        "outputId": "737ab00e-f7d7-4d07-b83e-a935f0214cd6"
      },
      "source": [
        "len(X_train), len(X_test)"
      ],
      "execution_count": 5,
      "outputs": [
        {
          "output_type": "execute_result",
          "data": {
            "text/plain": [
              "(42000, 18000)"
            ]
          },
          "metadata": {},
          "execution_count": 5
        }
      ]
    },
    {
      "cell_type": "markdown",
      "metadata": {
        "id": "akTUOfLlgwoM"
      },
      "source": [
        "**Observations**\n",
        "- There are 42,000 images in the training data and 18,000 images in the testing data. "
      ]
    },
    {
      "cell_type": "markdown",
      "metadata": {
        "id": "kxODV6HKykuc"
      },
      "source": [
        "## **Visualizing images**\n",
        "- Use X_train to visualize the first 10 images\n",
        "- Use Y_train to print the first 10 labels"
      ]
    },
    {
      "cell_type": "markdown",
      "metadata": {
        "id": "Rn5IZYv-e2TC"
      },
      "source": [
        "#### **Question 1: Complete the below code to visualize the first 10 images from the training data (1 Mark)**"
      ]
    },
    {
      "cell_type": "code",
      "metadata": {
        "colab": {
          "base_uri": "https://localhost:8080/",
          "height": 96
        },
        "id": "Bvsc8ytHsqWD",
        "outputId": "c58c4c74-2e9c-472e-c4f6-952a346767bc"
      },
      "source": [
        "# visualizing the first 10 images in the dataset and their labels\n",
        "plt.figure(figsize=(10, 1))\n",
        "\n",
        "for i in range(10):\n",
        "    plt.subplot(1, 10, i+1)\n",
        "    plt.imshow(X_train[i], cmap=\"gray\") # write the function to visualize images\n",
        "    plt.axis('off')\n",
        "\n",
        "plt.show()\n",
        "print('label for each of the above image: %s' % (y_train[0:10]))"
      ],
      "execution_count": 6,
      "outputs": [
        {
          "output_type": "display_data",
          "data": {
            "image/png": "[encoded data removed]",
            "text/plain": [
              "<Figure size 720x72 with 10 Axes>"
            ]
          },
          "metadata": {
            "needs_background": "light"
          }
        },
        {
          "output_type": "stream",
          "name": "stdout",
          "text": [
            "label for each of the above image: [2 6 7 4 4 0 3 0 7 3]\n"
          ]
        }
      ]
    },
    {
      "cell_type": "markdown",
      "metadata": {
        "id": "kzoyeXHOy80N"
      },
      "source": [
        "## **Data Preparation**\n",
        "\n",
        "- Print the first image in the train image and figure out the shape of the images\n",
        "- Reshape the train and the test dataset to make them fit the first convolutional operation that we will create later. Figure out the required shape\n",
        "- Normalize the train and the test dataset by dividing by 255\n",
        "- Print the new shapes of the train and the test set\n",
        "- One-hot encode the target variable"
      ]
    },
    {
      "cell_type": "code",
      "metadata": {
        "colab": {
          "base_uri": "https://localhost:8080/"
        },
        "id": "NqndzQXng9rL",
        "outputId": "666f1f9a-2495-41ed-df41-8feab116d21f"
      },
      "source": [
        "# Shape of the images and the first image\n",
        "\n",
        "print(\"Shape:\", X_train[0].shape)\n",
        "print()\n",
        "print(\"First image:\\n\", X_train[0])"
      ],
      "execution_count": 7,
      "outputs": [
        {
          "output_type": "stream",
          "name": "stdout",
          "text": [
            "Shape: (32, 32)\n",
            "\n",
            "First image:\n",
            " [[ 33.0704  30.2601  26.852  ...  71.4471  58.2204  42.9939]\n",
            " [ 25.2283  25.5533  29.9765 ... 113.0209 103.3639  84.2949]\n",
            " [ 26.2775  22.6137  40.4763 ... 113.3028 121.775  115.4228]\n",
            " ...\n",
            " [ 28.5502  36.212   45.0801 ...  24.1359  25.0927  26.0603]\n",
            " [ 38.4352  26.4733  23.2717 ...  28.1094  29.4683  30.0661]\n",
            " [ 50.2984  26.0773  24.0389 ...  49.6682  50.853   53.0377]]\n"
          ]
        }
      ]
    },
    {
      "cell_type": "code",
      "metadata": {
        "id": "D9YPwf9ysqWU"
      },
      "source": [
        "# Reshaping the dataset to flatten them. Remember that we always have to give a 4D array as input to CNNs\n",
        "\n",
        "X_train = X_train.reshape(X_train.shape[0], 32,32,1)\n",
        "X_test = X_test.reshape(X_test.shape[0], 32,32,1)"
      ],
      "execution_count": 8,
      "outputs": []
    },
    {
      "cell_type": "code",
      "metadata": {
        "id": "q_yUUTp_mUzB"
      },
      "source": [
        "# Normalize inputs from 0-255 to 0-1\n",
        "\n",
        "X_train = X_train / 255.0\n",
        "X_test = X_test / 255.0"
      ],
      "execution_count": 9,
      "outputs": []
    },
    {
      "cell_type": "code",
      "metadata": {
        "colab": {
          "base_uri": "https://localhost:8080/"
        },
        "id": "t7FSqOpamWkH",
        "outputId": "e8a52e6a-a49a-47a0-fac4-773540185ffc"
      },
      "source": [
        "# New shape \n",
        "\n",
        "print('Training set:', X_train.shape, y_train.shape)\n",
        "print('Test set:', X_test.shape, y_test.shape)"
      ],
      "execution_count": 10,
      "outputs": [
        {
          "output_type": "stream",
          "name": "stdout",
          "text": [
            "Training set: (42000, 32, 32, 1) (42000,)\n",
            "Test set: (18000, 32, 32, 1) (18000,)\n"
          ]
        }
      ]
    },
    {
      "cell_type": "markdown",
      "metadata": {
        "id": "YP92jacue2TE"
      },
      "source": [
        "#### **Question 2: One-hot encode the labels in the target variable y_train and y_test (2 Marks)**"
      ]
    },
    {
      "cell_type": "code",
      "metadata": {
        "colab": {
          "base_uri": "https://localhost:8080/"
        },
        "id": "zL0lYER4sqWw",
        "outputId": "59c2fc33-1969-4b2a-d1cd-74a7e1f26427"
      },
      "source": [
        "#Write the function and appropriate variable name to one-hot encode the output\n",
        "\n",
        "y_train = to_categorical(y_train)\n",
        "y_test = to_categorical(y_test)\n",
        "\n",
        "#test labels\n",
        "y_test"
      ],
      "execution_count": 11,
      "outputs": [
        {
          "output_type": "execute_result",
          "data": {
            "text/plain": [
              "array([[0., 1., 0., ..., 0., 0., 0.],\n",
              "       [0., 0., 0., ..., 1., 0., 0.],\n",
              "       [0., 0., 1., ..., 0., 0., 0.],\n",
              "       ...,\n",
              "       [0., 0., 0., ..., 1., 0., 0.],\n",
              "       [0., 0., 0., ..., 0., 0., 1.],\n",
              "       [0., 0., 1., ..., 0., 0., 0.]], dtype=float32)"
            ]
          },
          "metadata": {},
          "execution_count": 11
        }
      ]
    },
    {
      "cell_type": "markdown",
      "metadata": {
        "id": "ViqPOTquCF76"
      },
      "source": [
        "- Notice that each entry of y_test is a one-hot encoded vector instead of a single label."
      ]
    },
    {
      "cell_type": "markdown",
      "metadata": {
        "id": "yH-gVrzuByNA"
      },
      "source": [
        "## **Model Building**\n",
        "\n",
        "Now, we have done data preprocessing, let's build a CNN model."
      ]
    },
    {
      "cell_type": "code",
      "metadata": {
        "id": "eaGr-3Noe2TF"
      },
      "source": [
        "#Fixing the seed for random number generators\n",
        "np.random.seed(42)\n",
        "import random\n",
        "random.seed(42)\n",
        "tf.random.set_seed(42)"
      ],
      "execution_count": 12,
      "outputs": []
    },
    {
      "cell_type": "markdown",
      "metadata": {
        "id": "UJDUoaEj1d6e"
      },
      "source": [
        "### **Model Architecture**\n",
        "- Write a function that returns a sequential model with the following architecture\n",
        " - First Convolutional layer with **16 filters and kernel size of 3x3**. Use the **'same' padding** and provide an **apt input shape**\n",
        " - Add a **LeakyRelu layer** with the **slope equal to 0.1**\n",
        " - Second Convolutional layer with **32 filters and kernel size of 3x3 with 'same' padding**\n",
        " - Another **LeakyRelu** with the **slope equal to 0.1**\n",
        " - A **max-pooling layer** with a **pool size of 2x2**\n",
        " - **Flatten** the output from the previous layer\n",
        " - Add a **dense layer with 32 nodes**\n",
        " - Add a **LeakyRelu layer with slope equal to 0.1**\n",
        " - Add the final **output layer with nodes equal to the number of classes** and **softmax activation**\n",
        " - Compile the model with the **categorical_crossentropy loss, adam optimizers (learning_rate = 0.001), and accuracy metric**. Do not fit the model here, just return the compiled model\n",
        "- Call the function and store the model in a new variable\n",
        "- Print the summary of the model.\n",
        "- Fit the model on the train data with a **validation split of 0.2, batch size = 32, verbose = 1, and 20 epochs**. Store the model building history to use later for visualization."
      ]
    },
    {
      "cell_type": "markdown",
      "metadata": {
        "id": "Uw8pZcNwe2TG"
      },
      "source": [
        "#### **Question 3: Build and train a CNN model as per the above mentioned architecture (10 Marks)**"
      ]
    },
    {
      "cell_type": "code",
      "metadata": {
        "id": "Cmi81Gr5sqW-"
      },
      "source": [
        "#Importing losses and optimizers modules\n",
        "from tensorflow.keras import losses\n",
        "from tensorflow.keras import optimizers\n",
        "\n",
        "#Define the function\n",
        "def cnn_model_1():\n",
        "    model = Sequential() \n",
        "    #Add layers as per the architecture mentioned above in the same sequence\n",
        "    model.add(Conv2D(16,(3,3),padding='same',input_shape=(32,32,1)))\n",
        "    model.add(LeakyReLU(alpha=0.1))\n",
        "    model.add(Conv2D(32,(3,3),padding='same'))\n",
        "    model.add(LeakyReLU(alpha=0.1))\n",
        "    model.add(MaxPool2D(pool_size=(2,2)))\n",
        "    model.add(Flatten())\n",
        "    model.add(Dense(32))\n",
        "    model.add(LeakyReLU(alpha=0.1))\n",
        "    model.add(Dense(10,activation='softmax'))\n",
        "\n",
        "    #declare adam optimizer with learning rate of 0.001 \n",
        "    adam = optimizers.Adam(learning_rate=0.001)\n",
        "    \n",
        "    #compile the model\n",
        "    model.compile(loss='categorical_crossentropy',optimizer=adam,metrics=['accuracy'])\n",
        "    \n",
        "    return model"
      ],
      "execution_count": 13,
      "outputs": []
    },
    {
      "cell_type": "code",
      "metadata": {
        "id": "bGCUI_xsImnH"
      },
      "source": [
        "#Build the model\n",
        "model_1 = cnn_model_1()"
      ],
      "execution_count": 14,
      "outputs": []
    },
    {
      "cell_type": "code",
      "metadata": {
        "id": "ckJsLdmdQadZ",
        "colab": {
          "base_uri": "https://localhost:8080/"
        },
        "outputId": "2cc16668-4a80-4e05-e70d-801cfa4bc781"
      },
      "source": [
        "#Print the model summary\n",
        "model_1.summary()"
      ],
      "execution_count": 15,
      "outputs": [
        {
          "output_type": "stream",
          "name": "stdout",
          "text": [
            "Model: \"sequential\"\n",
            "_________________________________________________________________\n",
            "Layer (type)                 Output Shape              Param #   \n",
            "=================================================================\n",
            "conv2d (Conv2D)              (None, 32, 32, 16)        160       \n",
            "_________________________________________________________________\n",
            "leaky_re_lu (LeakyReLU)      (None, 32, 32, 16)        0         \n",
            "_________________________________________________________________\n",
            "conv2d_1 (Conv2D)            (None, 32, 32, 32)        4640      \n",
            "_________________________________________________________________\n",
            "leaky_re_lu_1 (LeakyReLU)    (None, 32, 32, 32)        0         \n",
            "_________________________________________________________________\n",
            "max_pooling2d (MaxPooling2D) (None, 16, 16, 32)        0         \n",
            "_________________________________________________________________\n",
            "flatten (Flatten)            (None, 8192)              0         \n",
            "_________________________________________________________________\n",
            "dense (Dense)                (None, 32)                262176    \n",
            "_________________________________________________________________\n",
            "leaky_re_lu_2 (LeakyReLU)    (None, 32)                0         \n",
            "_________________________________________________________________\n",
            "dense_1 (Dense)              (None, 10)                330       \n",
            "=================================================================\n",
            "Total params: 267,306\n",
            "Trainable params: 267,306\n",
            "Non-trainable params: 0\n",
            "_________________________________________________________________\n"
          ]
        }
      ]
    },
    {
      "cell_type": "code",
      "metadata": {
        "id": "3Fy3Dif_zcCk",
        "colab": {
          "base_uri": "https://localhost:8080/"
        },
        "outputId": "a891cddc-870c-4b50-badd-9861a48060a7"
      },
      "source": [
        "# Fit the model\n",
        "history_model_1 = model_1.fit(X_train,y_train,validation_split=0.2,batch_size=32,verbose=1,epochs=20)"
      ],
      "execution_count": 18,
      "outputs": [
        {
          "output_type": "stream",
          "name": "stdout",
          "text": [
            "Epoch 1/20\n",
            "1050/1050 [==============================] - 42s 9ms/step - loss: 1.1989 - accuracy: 0.6028 - val_loss: 0.6504 - val_accuracy: 0.8111\n",
            "Epoch 2/20\n",
            "1050/1050 [==============================] - 10s 9ms/step - loss: 0.5371 - accuracy: 0.8456 - val_loss: 0.5076 - val_accuracy: 0.8556\n",
            "Epoch 3/20\n",
            "1050/1050 [==============================] - 10s 9ms/step - loss: 0.4385 - accuracy: 0.8715 - val_loss: 0.4767 - val_accuracy: 0.8635\n",
            "Epoch 4/20\n",
            "1050/1050 [==============================] - 9s 9ms/step - loss: 0.3813 - accuracy: 0.8893 - val_loss: 0.4403 - val_accuracy: 0.8746\n",
            "Epoch 5/20\n",
            "1050/1050 [==============================] - 9s 9ms/step - loss: 0.3368 - accuracy: 0.8995 - val_loss: 0.4629 - val_accuracy: 0.8686\n",
            "Epoch 6/20\n",
            "1050/1050 [==============================] - 9s 9ms/step - loss: 0.2973 - accuracy: 0.9096 - val_loss: 0.4597 - val_accuracy: 0.8751\n",
            "Epoch 7/20\n",
            "1050/1050 [==============================] - 9s 9ms/step - loss: 0.2688 - accuracy: 0.9185 - val_loss: 0.4430 - val_accuracy: 0.8737\n",
            "Epoch 8/20\n",
            "1050/1050 [==============================] - 10s 9ms/step - loss: 0.2385 - accuracy: 0.9281 - val_loss: 0.4763 - val_accuracy: 0.8731\n",
            "Epoch 9/20\n",
            "1050/1050 [==============================] - 9s 9ms/step - loss: 0.2166 - accuracy: 0.9335 - val_loss: 0.4833 - val_accuracy: 0.8720\n",
            "Epoch 10/20\n",
            "1050/1050 [==============================] - 9s 9ms/step - loss: 0.1945 - accuracy: 0.9385 - val_loss: 0.4973 - val_accuracy: 0.8760\n",
            "Epoch 11/20\n",
            "1050/1050 [==============================] - 10s 9ms/step - loss: 0.1708 - accuracy: 0.9469 - val_loss: 0.5498 - val_accuracy: 0.8718\n",
            "Epoch 12/20\n",
            "1050/1050 [==============================] - 10s 9ms/step - loss: 0.1572 - accuracy: 0.9502 - val_loss: 0.5715 - val_accuracy: 0.8676\n",
            "Epoch 13/20\n",
            "1050/1050 [==============================] - 10s 9ms/step - loss: 0.1367 - accuracy: 0.9582 - val_loss: 0.6343 - val_accuracy: 0.8580\n",
            "Epoch 14/20\n",
            "1050/1050 [==============================] - 9s 9ms/step - loss: 0.1284 - accuracy: 0.9591 - val_loss: 0.6365 - val_accuracy: 0.8680\n",
            "Epoch 15/20\n",
            "1050/1050 [==============================] - 9s 9ms/step - loss: 0.1124 - accuracy: 0.9643 - val_loss: 0.6366 - val_accuracy: 0.8762\n",
            "Epoch 16/20\n",
            "1050/1050 [==============================] - 9s 9ms/step - loss: 0.1063 - accuracy: 0.9662 - val_loss: 0.6672 - val_accuracy: 0.8710\n",
            "Epoch 17/20\n",
            "1050/1050 [==============================] - 9s 9ms/step - loss: 0.0889 - accuracy: 0.9710 - val_loss: 0.7363 - val_accuracy: 0.8656\n",
            "Epoch 18/20\n",
            "1050/1050 [==============================] - 9s 9ms/step - loss: 0.0894 - accuracy: 0.9715 - val_loss: 0.7204 - val_accuracy: 0.8704\n",
            "Epoch 19/20\n",
            "1050/1050 [==============================] - 10s 9ms/step - loss: 0.0798 - accuracy: 0.9741 - val_loss: 0.7445 - val_accuracy: 0.8711\n",
            "Epoch 20/20\n",
            "1050/1050 [==============================] - 9s 9ms/step - loss: 0.0766 - accuracy: 0.9743 - val_loss: 0.8201 - val_accuracy: 0.8657\n"
          ]
        }
      ]
    },
    {
      "cell_type": "markdown",
      "metadata": {
        "id": "tKOckG-KPyLg"
      },
      "source": [
        "### **Plotting the validation and training accuracies**"
      ]
    },
    {
      "cell_type": "markdown",
      "metadata": {
        "id": "sVyQ9Gpge2TI"
      },
      "source": [
        "#### **Question 4: Write your observations on the below plot (2 Marks)**"
      ]
    },
    {
      "cell_type": "code",
      "metadata": {
        "colab": {
          "base_uri": "https://localhost:8080/",
          "height": 497
        },
        "id": "lt77zgGMP4yw",
        "outputId": "33c7fda1-cd86-4537-e26c-578803ff4c84"
      },
      "source": [
        "# plotting the accuracies\n",
        "\n",
        "dict_hist = history_model_1.history\n",
        "list_ep = [i for i in range(1,21)]\n",
        "\n",
        "plt.figure(figsize = (8,8))\n",
        "plt.plot(list_ep,dict_hist['accuracy'],ls = '--', label = 'accuracy')\n",
        "plt.plot(list_ep,dict_hist['val_accuracy'],ls = '--', label = 'val_accuracy')\n",
        "plt.ylabel('Accuracy')\n",
        "plt.xlabel('Epochs')\n",
        "plt.legend()\n",
        "plt.show()"
      ],
      "execution_count": 27,
      "outputs": [
        {
          "output_type": "display_data",
          "data": {
            "image/png": "[encoded data removed]",
            "text/plain": [
              "<Figure size 576x576 with 1 Axes>"
            ]
          },
          "metadata": {
            "needs_background": "light"
          }
        }
      ]
    },
    {
      "cell_type": "markdown",
      "metadata": {
        "id": "pGBbQpLONX7k"
      },
      "source": [
        "**Observations:__________**\n",
        "- After 20 epochs the optimization converges (i.e. accuracy is near constant). \n",
        "- The accuracy on the training dataset reaches around 97%. This is very high comparing to accuracy on the validation dataset around 87%. This suggests that the model is overfitted. We could use regularization methods to improve the model. "
      ]
    },
    {
      "cell_type": "markdown",
      "metadata": {
        "id": "z0qgLMBZm5-K"
      },
      "source": [
        "Let's build another model and see if we can get a better model with generalized performance.\n",
        "\n",
        "First, we need to clear the previous model's history from the keras backend. Also, let's fix the seed again after clearing the backend."
      ]
    },
    {
      "cell_type": "code",
      "metadata": {
        "id": "y98BpLxsok_H"
      },
      "source": [
        "#Clearing backend\n",
        "from tensorflow.keras import backend\n",
        "backend.clear_session()"
      ],
      "execution_count": 20,
      "outputs": []
    },
    {
      "cell_type": "code",
      "metadata": {
        "id": "HbKi93HTolGW"
      },
      "source": [
        "#Fixing the seed for random number generators\n",
        "np.random.seed(42)\n",
        "import random\n",
        "random.seed(42)\n",
        "tf.random.set_seed(42)"
      ],
      "execution_count": 21,
      "outputs": []
    },
    {
      "cell_type": "markdown",
      "metadata": {
        "id": "lT6o3TIKuCtk"
      },
      "source": [
        "### **Second Model Architecture**\n",
        "- Write a function that returns a sequential model with the following architecture\n",
        " - First Convolutional layer with **16 filters and kernel size of 3x3**. Use the **'same' padding** and provide an **apt input shape**\n",
        " - Add a **LeakyRelu layer** with the **slope equal to 0.1**\n",
        " - Second Convolutional layer with **32 filters and kernel size of 3x3 with 'same' padding**\n",
        " - Add **LeakyRelu** with the **slope equal to 0.1**\n",
        " - Add a **max-pooling layer** with a **pool size of 2x2**\n",
        " - Add a **BatchNormalization layer**\n",
        " - Third Convolutional layer with **32 filters and kernel size of 3x3 with 'same' padding**\n",
        " - Add a **LeakyRelu layer with slope equal to 0.1**\n",
        " - Fourth Convolutional layer **64 filters and kernel size of 3x3 with 'same' padding** \n",
        " - Add a **LeakyRelu layer with slope equal to 0.1**\n",
        " - Add a **max-pooling layer** with a **pool size of 2x2**\n",
        " - Add a **BatchNormalization layer**\n",
        " - **Flatten** the output from the previous layer\n",
        " - Add a **dense layer with 32 nodes**\n",
        " - Add a **LeakyRelu layer with slope equal to 0.1**\n",
        " - Add a **dropout layer with rate equal to 0.5**\n",
        " - Add the final **output layer with nodes equal to the number of classes** and **softmax activation**\n",
        " - Compile the model with the **categorical_crossentropy loss, adam optimizers (learning_rate = 0.001), and accuracy metric**. Do not fit the model here, just return the compiled model\n",
        "- Call the function and store the model in a new variable\n",
        "- Print the summary of the model.\n",
        "- Fit the model on the train data with a **validation split of 0.2, batch size = 128, verbose = 1, and 30 epochs**. Store the model building history to use later for visualization."
      ]
    },
    {
      "cell_type": "markdown",
      "metadata": {
        "id": "Sr-bwBT2e2TJ"
      },
      "source": [
        "#### **Question 5: Build and train the second CNN model as per the above mentioned architecture (10 Marks)**"
      ]
    },
    {
      "cell_type": "code",
      "metadata": {
        "id": "EEPYLFIPnSDP"
      },
      "source": [
        "#Define the function\n",
        "def cnn_model_2():\n",
        "    model = Sequential() \n",
        "    #Add layers as per the architecture mentioned above in the same sequence\n",
        "    model.add(Conv2D(16,(3,3),padding='same',input_shape=(32,32,1)))# conv layer 1\n",
        "    model.add(LeakyReLU(alpha=0.1))\n",
        "    model.add(Conv2D(32,(3,3),padding='same'))# conv layer 2\n",
        "    model.add(LeakyReLU(alpha=0.1))\n",
        "    model.add(MaxPool2D(pool_size=(2,2)))\n",
        "    model.add(BatchNormalization())\n",
        "    model.add(Conv2D(32,(3,3),padding='same'))# conv layer 3\n",
        "    model.add(LeakyReLU(alpha=0.1))\n",
        "    model.add(Conv2D(64,(3,3),padding='same'))# conv layer 4\n",
        "    model.add(LeakyReLU(alpha=0.1))\n",
        "    model.add(MaxPool2D(pool_size=(2,2)))\n",
        "    model.add(BatchNormalization())\n",
        "    model.add(Flatten())\n",
        "    model.add(Dense(32))\n",
        "    model.add(LeakyReLU(alpha=0.1))\n",
        "    model.add(Dropout(0.5))\n",
        "    model.add(Dense(10,activation='softmax'))\n",
        "\n",
        "    #declare adam optimizer with learning rate of 0.001 \n",
        "    adam = optimizers.Adam(learning_rate=0.001)\n",
        "    \n",
        "    #compile the model\n",
        "    model.compile(loss='categorical_crossentropy',optimizer=adam,metrics=['accuracy'])\n",
        "    \n",
        "    return model"
      ],
      "execution_count": 22,
      "outputs": []
    },
    {
      "cell_type": "code",
      "metadata": {
        "id": "AKjDY4plnSFl"
      },
      "source": [
        "# Build the model\n",
        "model_2 = cnn_model_2()"
      ],
      "execution_count": 23,
      "outputs": []
    },
    {
      "cell_type": "code",
      "metadata": {
        "id": "gz_6SVrU2swZ",
        "colab": {
          "base_uri": "https://localhost:8080/"
        },
        "outputId": "cf609d0f-b26b-463a-b197-39e5015d983d"
      },
      "source": [
        "#Print the summary\n",
        "model_2.summary()"
      ],
      "execution_count": 24,
      "outputs": [
        {
          "output_type": "stream",
          "name": "stdout",
          "text": [
            "Model: \"sequential\"\n",
            "_________________________________________________________________\n",
            "Layer (type)                 Output Shape              Param #   \n",
            "=================================================================\n",
            "conv2d (Conv2D)              (None, 32, 32, 16)        160       \n",
            "_________________________________________________________________\n",
            "leaky_re_lu (LeakyReLU)      (None, 32, 32, 16)        0         \n",
            "_________________________________________________________________\n",
            "conv2d_1 (Conv2D)            (None, 32, 32, 32)        4640      \n",
            "_________________________________________________________________\n",
            "leaky_re_lu_1 (LeakyReLU)    (None, 32, 32, 32)        0         \n",
            "_________________________________________________________________\n",
            "max_pooling2d (MaxPooling2D) (None, 16, 16, 32)        0         \n",
            "_________________________________________________________________\n",
            "batch_normalization (BatchNo (None, 16, 16, 32)        128       \n",
            "_________________________________________________________________\n",
            "conv2d_2 (Conv2D)            (None, 16, 16, 32)        9248      \n",
            "_________________________________________________________________\n",
            "leaky_re_lu_2 (LeakyReLU)    (None, 16, 16, 32)        0         \n",
            "_________________________________________________________________\n",
            "conv2d_3 (Conv2D)            (None, 16, 16, 64)        18496     \n",
            "_________________________________________________________________\n",
            "leaky_re_lu_3 (LeakyReLU)    (None, 16, 16, 64)        0         \n",
            "_________________________________________________________________\n",
            "max_pooling2d_1 (MaxPooling2 (None, 8, 8, 64)          0         \n",
            "_________________________________________________________________\n",
            "batch_normalization_1 (Batch (None, 8, 8, 64)          256       \n",
            "_________________________________________________________________\n",
            "flatten (Flatten)            (None, 4096)              0         \n",
            "_________________________________________________________________\n",
            "dense (Dense)                (None, 32)                131104    \n",
            "_________________________________________________________________\n",
            "leaky_re_lu_4 (LeakyReLU)    (None, 32)                0         \n",
            "_________________________________________________________________\n",
            "dropout (Dropout)            (None, 32)                0         \n",
            "_________________________________________________________________\n",
            "dense_1 (Dense)              (None, 10)                330       \n",
            "=================================================================\n",
            "Total params: 164,362\n",
            "Trainable params: 164,170\n",
            "Non-trainable params: 192\n",
            "_________________________________________________________________\n"
          ]
        }
      ]
    },
    {
      "cell_type": "code",
      "metadata": {
        "id": "IQ0Sc4R-y-uu",
        "colab": {
          "base_uri": "https://localhost:8080/"
        },
        "outputId": "50e76c3a-dbe8-46ac-b2c2-b9c3711dd8f2"
      },
      "source": [
        "# Fit the model\n",
        "history_model_2 = model_2.fit(X_train,y_train,validation_split=0.2,batch_size=128,verbose=1,epochs=30)"
      ],
      "execution_count": 26,
      "outputs": [
        {
          "output_type": "stream",
          "name": "stdout",
          "text": [
            "Epoch 1/30\n",
            "263/263 [==============================] - 7s 22ms/step - loss: 1.4665 - accuracy: 0.5004 - val_loss: 2.3210 - val_accuracy: 0.1942\n",
            "Epoch 2/30\n",
            "263/263 [==============================] - 5s 20ms/step - loss: 0.6815 - accuracy: 0.7893 - val_loss: 0.6260 - val_accuracy: 0.8127\n",
            "Epoch 3/30\n",
            "263/263 [==============================] - 5s 20ms/step - loss: 0.5550 - accuracy: 0.8307 - val_loss: 0.5086 - val_accuracy: 0.8565\n",
            "Epoch 4/30\n",
            "263/263 [==============================] - 5s 20ms/step - loss: 0.4928 - accuracy: 0.8477 - val_loss: 0.6103 - val_accuracy: 0.8112\n",
            "Epoch 5/30\n",
            "263/263 [==============================] - 5s 20ms/step - loss: 0.4449 - accuracy: 0.8650 - val_loss: 0.4042 - val_accuracy: 0.8851\n",
            "Epoch 6/30\n",
            "263/263 [==============================] - 5s 20ms/step - loss: 0.4075 - accuracy: 0.8739 - val_loss: 0.4714 - val_accuracy: 0.8542\n",
            "Epoch 7/30\n",
            "263/263 [==============================] - 5s 20ms/step - loss: 0.3797 - accuracy: 0.8828 - val_loss: 0.4479 - val_accuracy: 0.8727\n",
            "Epoch 8/30\n",
            "263/263 [==============================] - 5s 20ms/step - loss: 0.3596 - accuracy: 0.8885 - val_loss: 0.4964 - val_accuracy: 0.8535\n",
            "Epoch 9/30\n",
            "263/263 [==============================] - 5s 20ms/step - loss: 0.3321 - accuracy: 0.8958 - val_loss: 0.3505 - val_accuracy: 0.9036\n",
            "Epoch 10/30\n",
            "263/263 [==============================] - 5s 20ms/step - loss: 0.3158 - accuracy: 0.9010 - val_loss: 0.3530 - val_accuracy: 0.9017\n",
            "Epoch 11/30\n",
            "263/263 [==============================] - 5s 20ms/step - loss: 0.2950 - accuracy: 0.9061 - val_loss: 0.3712 - val_accuracy: 0.9035\n",
            "Epoch 12/30\n",
            "263/263 [==============================] - 5s 20ms/step - loss: 0.2774 - accuracy: 0.9126 - val_loss: 0.3944 - val_accuracy: 0.8967\n",
            "Epoch 13/30\n",
            "263/263 [==============================] - 5s 20ms/step - loss: 0.2663 - accuracy: 0.9146 - val_loss: 0.3687 - val_accuracy: 0.9035\n",
            "Epoch 14/30\n",
            "263/263 [==============================] - 5s 20ms/step - loss: 0.2575 - accuracy: 0.9182 - val_loss: 0.3633 - val_accuracy: 0.9044\n",
            "Epoch 15/30\n",
            "263/263 [==============================] - 5s 20ms/step - loss: 0.2450 - accuracy: 0.9207 - val_loss: 0.4060 - val_accuracy: 0.8886\n",
            "Epoch 16/30\n",
            "263/263 [==============================] - 5s 20ms/step - loss: 0.2378 - accuracy: 0.9227 - val_loss: 0.3997 - val_accuracy: 0.9023\n",
            "Epoch 17/30\n",
            "263/263 [==============================] - 5s 20ms/step - loss: 0.2268 - accuracy: 0.9273 - val_loss: 0.3778 - val_accuracy: 0.9062\n",
            "Epoch 18/30\n",
            "263/263 [==============================] - 5s 20ms/step - loss: 0.2122 - accuracy: 0.9309 - val_loss: 0.4017 - val_accuracy: 0.9051\n",
            "Epoch 19/30\n",
            "263/263 [==============================] - 5s 20ms/step - loss: 0.2209 - accuracy: 0.9291 - val_loss: 0.3771 - val_accuracy: 0.9102\n",
            "Epoch 20/30\n",
            "263/263 [==============================] - 5s 20ms/step - loss: 0.2014 - accuracy: 0.9346 - val_loss: 0.4403 - val_accuracy: 0.8987\n",
            "Epoch 21/30\n",
            "263/263 [==============================] - 5s 20ms/step - loss: 0.2069 - accuracy: 0.9322 - val_loss: 0.3491 - val_accuracy: 0.9143\n",
            "Epoch 22/30\n",
            "263/263 [==============================] - 5s 20ms/step - loss: 0.1874 - accuracy: 0.9374 - val_loss: 0.3960 - val_accuracy: 0.9046\n",
            "Epoch 23/30\n",
            "263/263 [==============================] - 5s 20ms/step - loss: 0.1830 - accuracy: 0.9403 - val_loss: 0.4405 - val_accuracy: 0.9052\n",
            "Epoch 24/30\n",
            "263/263 [==============================] - 5s 20ms/step - loss: 0.1762 - accuracy: 0.9421 - val_loss: 0.4171 - val_accuracy: 0.9051\n",
            "Epoch 25/30\n",
            "263/263 [==============================] - 5s 20ms/step - loss: 0.1719 - accuracy: 0.9438 - val_loss: 0.4300 - val_accuracy: 0.9054\n",
            "Epoch 26/30\n",
            "263/263 [==============================] - 5s 21ms/step - loss: 0.1668 - accuracy: 0.9463 - val_loss: 0.5025 - val_accuracy: 0.8955\n",
            "Epoch 27/30\n",
            "263/263 [==============================] - 5s 20ms/step - loss: 0.1611 - accuracy: 0.9460 - val_loss: 0.4961 - val_accuracy: 0.9048\n",
            "Epoch 28/30\n",
            "263/263 [==============================] - 5s 20ms/step - loss: 0.1567 - accuracy: 0.9492 - val_loss: 0.4999 - val_accuracy: 0.9020\n",
            "Epoch 29/30\n",
            "263/263 [==============================] - 5s 20ms/step - loss: 0.1508 - accuracy: 0.9484 - val_loss: 0.4567 - val_accuracy: 0.9115\n",
            "Epoch 30/30\n",
            "263/263 [==============================] - 5s 20ms/step - loss: 0.1502 - accuracy: 0.9509 - val_loss: 0.5203 - val_accuracy: 0.8995\n"
          ]
        }
      ]
    },
    {
      "cell_type": "markdown",
      "metadata": {
        "id": "0_f1EXmTe2TK"
      },
      "source": [
        "### **Plotting the validation and training accuracies**"
      ]
    },
    {
      "cell_type": "markdown",
      "metadata": {
        "id": "aC5UbsqXe2TK"
      },
      "source": [
        "#### **Question 6: Write your observations on the below plot (2 Marks)**"
      ]
    },
    {
      "cell_type": "code",
      "metadata": {
        "colab": {
          "base_uri": "https://localhost:8080/",
          "height": 497
        },
        "id": "01ig6BrF1KVy",
        "outputId": "72c0b97d-badd-494f-e565-f3a128fc8027"
      },
      "source": [
        "# plotting the accuracies\n",
        "\n",
        "dict_hist = history_model_2.history\n",
        "list_ep = [i for i in range(1,31)]\n",
        "\n",
        "plt.figure(figsize = (8,8))\n",
        "plt.plot(list_ep,dict_hist['accuracy'],ls = '--', label = 'accuracy')\n",
        "plt.plot(list_ep,dict_hist['val_accuracy'],ls = '--', label = 'val_accuracy')\n",
        "plt.ylabel('Accuracy')\n",
        "plt.xlabel('Epochs')\n",
        "plt.legend()\n",
        "plt.show()"
      ],
      "execution_count": 28,
      "outputs": [
        {
          "output_type": "display_data",
          "data": {
            "image/png": "[encoded data removed]",
            "text/plain": [
              "<Figure size 576x576 with 1 Axes>"
            ]
          },
          "metadata": {
            "needs_background": "light"
          }
        }
      ]
    },
    {
      "cell_type": "markdown",
      "metadata": {
        "id": "VPW1LlD61RDn"
      },
      "source": [
        "**Observations:________**\n",
        "\n",
        "- For the new model, accuracy on the train dataset converges to around 95%, and accuracy on the validation dataset to around 90%: the overfitting has been reduced (although there is still some).\n",
        "- How was the overfitting reduced?\n",
        "  1. We added Dropout layers as well as Batch Normalization layers that regularize the loss function. \n",
        "  2. We decreased the model complexity: although the new CNN is deeper, it has less trainable parameters (around 164 000 compared to around 277 000). "
      ]
    },
    {
      "cell_type": "markdown",
      "metadata": {
        "id": "8kuXx9Bvu00f"
      },
      "source": [
        "## **Predictions on the test data**\n",
        "\n",
        "- Make predictions on the test set using the second model\n",
        "- Print the obtained results using the classification report and the confusion matrix\n",
        "- Final observations from the obtained results"
      ]
    },
    {
      "cell_type": "markdown",
      "metadata": {
        "id": "yfZwC9OUe2TL"
      },
      "source": [
        "#### **Question 7: Make predictions on the test data using the second model (1 Mark)**"
      ]
    },
    {
      "cell_type": "code",
      "metadata": {
        "id": "xbWMEtTj5Ad0"
      },
      "source": [
        "#Make prediction on the test data using model_2 \n",
        "test_pred = model_2.predict(X_test)\n",
        "\n",
        "test_pred = np.argmax(test_pred, axis=-1)"
      ],
      "execution_count": 29,
      "outputs": []
    },
    {
      "cell_type": "markdown",
      "metadata": {
        "id": "i3li8Ib08yts"
      },
      "source": [
        "**Note:** Earlier, we noticed that each entry of the test data is a one-hot encoded vector but to print the classification report and confusion matrix, we must convert each entry of y_test to a single label."
      ]
    },
    {
      "cell_type": "code",
      "metadata": {
        "id": "NByu7uAQ8x9P"
      },
      "source": [
        "#Converting each entry to single label from one-hot encoded vector\n",
        "y_test = np.argmax(y_test, axis=-1)"
      ],
      "execution_count": 30,
      "outputs": []
    },
    {
      "cell_type": "markdown",
      "metadata": {
        "id": "yHDUEma0e2TM"
      },
      "source": [
        "#### **Question 8: Write your final observations on the performance of the model on the test data (2 Marks)**"
      ]
    },
    {
      "cell_type": "code",
      "metadata": {
        "colab": {
          "base_uri": "https://localhost:8080/",
          "height": 998
        },
        "id": "xRddeJ-3EHT1",
        "outputId": "bdd0949f-a49d-492b-d492-bdf5c02981d5"
      },
      "source": [
        "#importing required functions\n",
        "from sklearn.metrics import classification_report\n",
        "from sklearn.metrics import confusion_matrix\n",
        "\n",
        "#Printing the classification report\n",
        "print(classification_report(y_test, test_pred))\n",
        "\n",
        "#Plotting the heatmap using confusion matrix\n",
        "cm = confusion_matrix(y_test, test_pred)\n",
        "plt.figure(figsize=(8,5))\n",
        "sns.heatmap(cm, annot=True,  fmt='.0f')\n",
        "plt.ylabel('Actual')\n",
        "plt.xlabel('Predicted')\n",
        "plt.show()\n",
        "\n",
        "# I add a plot of confusion matrix, in % instead of counts (more readable for me)\n",
        "print('-'*50)\n",
        "cmn = confusion_matrix(y_test,test_pred, normalize='true')# I prefer the normalized version\n",
        "plt.figure(figsize=(8,5))\n",
        "sns.heatmap(cmn*100, annot=True,fmt='.0f')\n",
        "plt.ylabel('Actual')\n",
        "plt.xlabel('Predicted')\n",
        "plt.title('Confusion Matrix in %')\n",
        "plt.show()"
      ],
      "execution_count": 34,
      "outputs": [
        {
          "output_type": "stream",
          "name": "stdout",
          "text": [
            "              precision    recall  f1-score   support\n",
            "\n",
            "           0       0.85      0.96      0.90      1814\n",
            "           1       0.90      0.90      0.90      1828\n",
            "           2       0.93      0.90      0.92      1803\n",
            "           3       0.93      0.84      0.88      1719\n",
            "           4       0.92      0.92      0.92      1812\n",
            "           5       0.90      0.90      0.90      1768\n",
            "           6       0.89      0.89      0.89      1832\n",
            "           7       0.91      0.93      0.92      1808\n",
            "           8       0.88      0.89      0.89      1812\n",
            "           9       0.90      0.88      0.89      1804\n",
            "\n",
            "    accuracy                           0.90     18000\n",
            "   macro avg       0.90      0.90      0.90     18000\n",
            "weighted avg       0.90      0.90      0.90     18000\n",
            "\n"
          ]
        },
        {
          "output_type": "display_data",
          "data": {
            "image/png": "[encoded data removed]",
            "text/plain": [
              "<Figure size 576x360 with 2 Axes>"
            ]
          },
          "metadata": {
            "needs_background": "light"
          }
        },
        {
          "output_type": "stream",
          "name": "stdout",
          "text": [
            "--------------------------------------------------\n"
          ]
        },
        {
          "output_type": "display_data",
          "data": {
            "image/png": "[encoded data removed]",
            "text/plain": [
              "<Figure size 576x360 with 2 Axes>"
            ]
          },
          "metadata": {
            "needs_background": "light"
          }
        }
      ]
    },
    {
      "cell_type": "markdown",
      "metadata": {
        "id": "DjErl4GA2u9s"
      },
      "source": [
        "#### **Observations:_________**\n",
        "\n",
        "We have built and trained two Convolutional Neural Networks (CNN) to predict digits from images of the SVHN dataset.\n",
        "\n",
        "**Model Use**\n",
        "\n",
        "- The second CNN reaches 90% accuracy on the test dataset. This is a very good model for digit recognition, that is generalizable (not overfitted).\n",
        "- The model performances vary slightly depending on the digit to predict. Recall for example is highest on the test dataset for digits 0,7,4 and lowest for digits 3,9,8. This is likely the metric of most interest for our problem. \n",
        "- The most common errors made by the model are to predict a 0 instead of a 9 (5% of cases), a 5 instead of a 3 (4%), a 6 instead of a 5 (3%) or a 8 (3%). This makes sense because these digits have similar shapes.\n",
        "\n",
        "**Model Building**\n",
        "- In the second CNN, we improved overfitting by regularizing with Dropout (and Batch Normalization) layers, and reducing model complexity with less trainable parameters (around 164 000 instead of  around 277 000). \n",
        "- In a previous notebook we had build Artificial Neural Networks (ANN) for the same problem. The CNN's performance is higher in comparison because its architecture is more adapted to the computer vision problem.\n",
        "- We could try to further increase the CNN's performance by tweaking its hyperparameters (e.g. depth, width) and increasing the epochs. More complex CNN architectures will very likely perform better as well.\n",
        "\n",
        "\n",
        "\n",
        "\n"
      ]
    }
  ]
}